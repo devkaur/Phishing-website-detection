{
 "cells": [
  {
   "cell_type": "code",
   "execution_count": 345,
   "id": "90f31538",
   "metadata": {},
   "outputs": [],
   "source": [
    "import pandas as pd\n",
    "import numpy as np\n",
    "import re\n",
    "from sklearn.metrics import accuracy_score\n",
    "#from wordcloud import WordCloud\n"
   ]
  },
  {
   "cell_type": "code",
   "execution_count": 346,
   "id": "a491bdc1",
   "metadata": {},
   "outputs": [
    {
     "data": {
      "text/html": [
       "<div>\n",
       "<style scoped>\n",
       "    .dataframe tbody tr th:only-of-type {\n",
       "        vertical-align: middle;\n",
       "    }\n",
       "\n",
       "    .dataframe tbody tr th {\n",
       "        vertical-align: top;\n",
       "    }\n",
       "\n",
       "    .dataframe thead th {\n",
       "        text-align: right;\n",
       "    }\n",
       "</style>\n",
       "<table border=\"1\" class=\"dataframe\">\n",
       "  <thead>\n",
       "    <tr style=\"text-align: right;\">\n",
       "      <th></th>\n",
       "      <th>domain</th>\n",
       "      <th>ranking</th>\n",
       "      <th>isIp</th>\n",
       "      <th>valid</th>\n",
       "      <th>activeDuration</th>\n",
       "      <th>urlLen</th>\n",
       "      <th>is@</th>\n",
       "      <th>isredirect</th>\n",
       "      <th>haveDash</th>\n",
       "      <th>domainLen</th>\n",
       "      <th>nosOfSubdomain</th>\n",
       "      <th>label</th>\n",
       "    </tr>\n",
       "  </thead>\n",
       "  <tbody>\n",
       "    <tr>\n",
       "      <th>0</th>\n",
       "      <td>www.voting-yahoo.com</td>\n",
       "      <td>10000000</td>\n",
       "      <td>0</td>\n",
       "      <td>0</td>\n",
       "      <td>0</td>\n",
       "      <td>20</td>\n",
       "      <td>0</td>\n",
       "      <td>0</td>\n",
       "      <td>1</td>\n",
       "      <td>20</td>\n",
       "      <td>2</td>\n",
       "      <td>1</td>\n",
       "    </tr>\n",
       "    <tr>\n",
       "      <th>1</th>\n",
       "      <td>salemstate.edu</td>\n",
       "      <td>194914</td>\n",
       "      <td>0</td>\n",
       "      <td>1</td>\n",
       "      <td>7305</td>\n",
       "      <td>13</td>\n",
       "      <td>0</td>\n",
       "      <td>0</td>\n",
       "      <td>0</td>\n",
       "      <td>12</td>\n",
       "      <td>2</td>\n",
       "      <td>0</td>\n",
       "    </tr>\n",
       "    <tr>\n",
       "      <th>2</th>\n",
       "      <td>tecportais.com/file-security-update-infonfmati...</td>\n",
       "      <td>10000000</td>\n",
       "      <td>0</td>\n",
       "      <td>0</td>\n",
       "      <td>0</td>\n",
       "      <td>155</td>\n",
       "      <td>0</td>\n",
       "      <td>0</td>\n",
       "      <td>0</td>\n",
       "      <td>14</td>\n",
       "      <td>1</td>\n",
       "      <td>1</td>\n",
       "    </tr>\n",
       "    <tr>\n",
       "      <th>3</th>\n",
       "      <td>bima.astro.umd.edu/nemo/linuxastro/</td>\n",
       "      <td>7001</td>\n",
       "      <td>0</td>\n",
       "      <td>0</td>\n",
       "      <td>0</td>\n",
       "      <td>35</td>\n",
       "      <td>0</td>\n",
       "      <td>0</td>\n",
       "      <td>0</td>\n",
       "      <td>18</td>\n",
       "      <td>3</td>\n",
       "      <td>0</td>\n",
       "    </tr>\n",
       "    <tr>\n",
       "      <th>4</th>\n",
       "      <td>salemstate.ua.org</td>\n",
       "      <td>10000000</td>\n",
       "      <td>0</td>\n",
       "      <td>1</td>\n",
       "      <td>730</td>\n",
       "      <td>16</td>\n",
       "      <td>0</td>\n",
       "      <td>0</td>\n",
       "      <td>1</td>\n",
       "      <td>14</td>\n",
       "      <td>1</td>\n",
       "      <td>1</td>\n",
       "    </tr>\n",
       "    <tr>\n",
       "      <th>5</th>\n",
       "      <td>diannaopeizhi.com/js/</td>\n",
       "      <td>10000000</td>\n",
       "      <td>0</td>\n",
       "      <td>1</td>\n",
       "      <td>1096</td>\n",
       "      <td>21</td>\n",
       "      <td>0</td>\n",
       "      <td>0</td>\n",
       "      <td>0</td>\n",
       "      <td>17</td>\n",
       "      <td>1</td>\n",
       "      <td>1</td>\n",
       "    </tr>\n",
       "    <tr>\n",
       "      <th>6</th>\n",
       "      <td>www.synchrotech.com/support/install.html</td>\n",
       "      <td>10000000</td>\n",
       "      <td>0</td>\n",
       "      <td>1</td>\n",
       "      <td>12053</td>\n",
       "      <td>40</td>\n",
       "      <td>0</td>\n",
       "      <td>0</td>\n",
       "      <td>0</td>\n",
       "      <td>19</td>\n",
       "      <td>2</td>\n",
       "      <td>0</td>\n",
       "    </tr>\n",
       "    <tr>\n",
       "      <th>7</th>\n",
       "      <td>www.ansi.okstate.edu/breeds/swine/largeblackwh...</td>\n",
       "      <td>23191</td>\n",
       "      <td>0</td>\n",
       "      <td>0</td>\n",
       "      <td>0</td>\n",
       "      <td>50</td>\n",
       "      <td>0</td>\n",
       "      <td>0</td>\n",
       "      <td>0</td>\n",
       "      <td>20</td>\n",
       "      <td>3</td>\n",
       "      <td>0</td>\n",
       "    </tr>\n",
       "    <tr>\n",
       "      <th>8</th>\n",
       "      <td>www.strum.co.uk/webbery/</td>\n",
       "      <td>10000000</td>\n",
       "      <td>0</td>\n",
       "      <td>0</td>\n",
       "      <td>0</td>\n",
       "      <td>24</td>\n",
       "      <td>0</td>\n",
       "      <td>0</td>\n",
       "      <td>0</td>\n",
       "      <td>15</td>\n",
       "      <td>3</td>\n",
       "      <td>0</td>\n",
       "    </tr>\n",
       "    <tr>\n",
       "      <th>9</th>\n",
       "      <td>www.grok2.com/vi-emacs.html</td>\n",
       "      <td>10000000</td>\n",
       "      <td>0</td>\n",
       "      <td>1</td>\n",
       "      <td>6210</td>\n",
       "      <td>27</td>\n",
       "      <td>0</td>\n",
       "      <td>0</td>\n",
       "      <td>0</td>\n",
       "      <td>13</td>\n",
       "      <td>2</td>\n",
       "      <td>0</td>\n",
       "    </tr>\n",
       "  </tbody>\n",
       "</table>\n",
       "</div>"
      ],
      "text/plain": [
       "                                              domain   ranking  isIp  valid  \\\n",
       "0                               www.voting-yahoo.com  10000000     0      0   \n",
       "1                                     salemstate.edu    194914     0      1   \n",
       "2  tecportais.com/file-security-update-infonfmati...  10000000     0      0   \n",
       "3                bima.astro.umd.edu/nemo/linuxastro/      7001     0      0   \n",
       "4                                  salemstate.ua.org  10000000     0      1   \n",
       "5                              diannaopeizhi.com/js/  10000000     0      1   \n",
       "6           www.synchrotech.com/support/install.html  10000000     0      1   \n",
       "7  www.ansi.okstate.edu/breeds/swine/largeblackwh...     23191     0      0   \n",
       "8                           www.strum.co.uk/webbery/  10000000     0      0   \n",
       "9                        www.grok2.com/vi-emacs.html  10000000     0      1   \n",
       "\n",
       "   activeDuration  urlLen  is@  isredirect  haveDash  domainLen  \\\n",
       "0               0      20    0           0         1         20   \n",
       "1            7305      13    0           0         0         12   \n",
       "2               0     155    0           0         0         14   \n",
       "3               0      35    0           0         0         18   \n",
       "4             730      16    0           0         1         14   \n",
       "5            1096      21    0           0         0         17   \n",
       "6           12053      40    0           0         0         19   \n",
       "7               0      50    0           0         0         20   \n",
       "8               0      24    0           0         0         15   \n",
       "9            6210      27    0           0         0         13   \n",
       "\n",
       "   nosOfSubdomain  label  \n",
       "0               2      1  \n",
       "1               2      0  \n",
       "2               1      1  \n",
       "3               3      0  \n",
       "4               1      1  \n",
       "5               1      1  \n",
       "6               2      0  \n",
       "7               3      0  \n",
       "8               3      0  \n",
       "9               2      0  "
      ]
     },
     "execution_count": 346,
     "metadata": {},
     "output_type": "execute_result"
    }
   ],
   "source": [
    "df= pd.read_csv(\"combined_dataset.csv\")# loading data \n",
    "df.head(10)"
   ]
  },
  {
   "cell_type": "markdown",
   "id": "299940ee",
   "metadata": {},
   "source": []
  },
  {
   "cell_type": "code",
   "execution_count": 291,
   "id": "9a90f09d",
   "metadata": {},
   "outputs": [],
   "source": [
    "#df.head(10)"
   ]
  },
  {
   "cell_type": "code",
   "execution_count": 292,
   "id": "14af553c",
   "metadata": {},
   "outputs": [],
   "source": [
    "#df.tail(10)"
   ]
  },
  {
   "cell_type": "markdown",
   "id": "14e6fc3f",
   "metadata": {},
   "source": [
    "#  Preprocessing steps -FAMILIARIZING WITH DATA- CHECKING DATA AND FEATURES "
   ]
  },
  {
   "cell_type": "code",
   "execution_count": 347,
   "id": "b2c476f2",
   "metadata": {},
   "outputs": [
    {
     "data": {
      "text/plain": [
       "(95910, 12)"
      ]
     },
     "execution_count": 347,
     "metadata": {},
     "output_type": "execute_result"
    }
   ],
   "source": [
    "df.shape # check shape"
   ]
  },
  {
   "cell_type": "code",
   "execution_count": 348,
   "id": "71f5418c",
   "metadata": {},
   "outputs": [
    {
     "data": {
      "text/plain": [
       "Index(['domain', 'ranking', 'isIp', 'valid', 'activeDuration', 'urlLen', 'is@',\n",
       "       'isredirect', 'haveDash', 'domainLen', 'nosOfSubdomain', 'label'],\n",
       "      dtype='object')"
      ]
     },
     "execution_count": 348,
     "metadata": {},
     "output_type": "execute_result"
    }
   ],
   "source": [
    "df.columns # check columns"
   ]
  },
  {
   "cell_type": "code",
   "execution_count": 349,
   "id": "4e7c98d4",
   "metadata": {},
   "outputs": [
    {
     "name": "stdout",
     "output_type": "stream",
     "text": [
      "<class 'pandas.core.frame.DataFrame'>\n",
      "RangeIndex: 95910 entries, 0 to 95909\n",
      "Data columns (total 12 columns):\n",
      " #   Column          Non-Null Count  Dtype \n",
      "---  ------          --------------  ----- \n",
      " 0   domain          95910 non-null  object\n",
      " 1   ranking         95910 non-null  int64 \n",
      " 2   isIp            95910 non-null  int64 \n",
      " 3   valid           95910 non-null  int64 \n",
      " 4   activeDuration  95910 non-null  int64 \n",
      " 5   urlLen          95910 non-null  int64 \n",
      " 6   is@             95910 non-null  int64 \n",
      " 7   isredirect      95910 non-null  int64 \n",
      " 8   haveDash        95910 non-null  int64 \n",
      " 9   domainLen       95910 non-null  int64 \n",
      " 10  nosOfSubdomain  95910 non-null  int64 \n",
      " 11  label           95910 non-null  int64 \n",
      "dtypes: int64(11), object(1)\n",
      "memory usage: 8.8+ MB\n"
     ]
    }
   ],
   "source": [
    "df.info()"
   ]
  },
  {
   "cell_type": "code",
   "execution_count": 350,
   "id": "1b2d442a",
   "metadata": {},
   "outputs": [
    {
     "data": {
      "text/plain": [
       "domain            0\n",
       "ranking           0\n",
       "isIp              0\n",
       "valid             0\n",
       "activeDuration    0\n",
       "urlLen            0\n",
       "is@               0\n",
       "isredirect        0\n",
       "haveDash          0\n",
       "domainLen         0\n",
       "nosOfSubdomain    0\n",
       "label             0\n",
       "dtype: int64"
      ]
     },
     "execution_count": 350,
     "metadata": {},
     "output_type": "execute_result"
    }
   ],
   "source": [
    "# total missing values for each feature\n",
    "df.isnull().sum() # int type "
   ]
  },
  {
   "cell_type": "code",
   "execution_count": 351,
   "id": "6e335541",
   "metadata": {},
   "outputs": [
    {
     "data": {
      "text/plain": [
       "domain            False\n",
       "ranking           False\n",
       "isIp              False\n",
       "valid             False\n",
       "activeDuration    False\n",
       "urlLen            False\n",
       "is@               False\n",
       "isredirect        False\n",
       "haveDash          False\n",
       "domainLen         False\n",
       "nosOfSubdomain    False\n",
       "label             False\n",
       "dtype: bool"
      ]
     },
     "execution_count": 351,
     "metadata": {},
     "output_type": "execute_result"
    }
   ],
   "source": [
    "#checking for null values if there's any \n",
    "df.isna().any() #string type \n",
    "# total missing values for each feature\n",
    "# df.isnull().sum() "
   ]
  },
  {
   "cell_type": "code",
   "execution_count": 352,
   "id": "3975f9ad",
   "metadata": {},
   "outputs": [
    {
     "data": {
      "text/plain": [
       "False"
      ]
     },
     "execution_count": 352,
     "metadata": {},
     "output_type": "execute_result"
    }
   ],
   "source": [
    "df.isnull().values.any()"
   ]
  },
  {
   "cell_type": "markdown",
   "id": "c1e193b9",
   "metadata": {},
   "source": [
    "This isna shows that there's no null values"
   ]
  },
  {
   "cell_type": "markdown",
   "id": "1dd5f631",
   "metadata": {},
   "source": [
    "\n",
    "# VISUALIZING THE DATA - USE PLOTS AND GRAPHS, OR CORRELATION MAP  \n"
   ]
  },
  {
   "cell_type": "code",
   "execution_count": 353,
   "id": "272ea710",
   "metadata": {},
   "outputs": [],
   "source": [
    "import matplotlib.pyplot as plt # data analyze is to collect data statically \n",
    "%matplotlib inline\n"
   ]
  },
  {
   "cell_type": "markdown",
   "id": "903bb141",
   "metadata": {},
   "source": [
    "Theses plots and graphs are displayed to find how the data is distributed and the how features are related to each other."
   ]
  },
  {
   "cell_type": "code",
   "execution_count": 354,
   "id": "cd2bb202",
   "metadata": {},
   "outputs": [
    {
     "data": {
      "image/png": "[encoded data removed]",
      "text/plain": [
       "<Figure size 864x864 with 12 Axes>"
      ]
     },
     "metadata": {
      "needs_background": "light"
     },
     "output_type": "display_data"
    }
   ],
   "source": [
    "# plotting the data distribution \n",
    "df.hist(bins=50, figsize=(12,12))\n",
    "plt.show()"
   ]
  },
  {
   "cell_type": "code",
   "execution_count": 355,
   "id": "4d41e0db",
   "metadata": {},
   "outputs": [
    {
     "data": {
      "image/png": "[encoded data removed]",
      "text/plain": [
       "<Figure size 864x864 with 2 Axes>"
      ]
     },
     "metadata": {
      "needs_background": "light"
     },
     "output_type": "display_data"
    }
   ],
   "source": [
    "# correlation heatmap\n",
    "import seaborn as sns\n",
    "plt.figure(figsize=(12,12))\n",
    "sns.heatmap(df.corr()) #co-relation between features\n",
    "plt.show()"
   ]
  },
  {
   "cell_type": "markdown",
   "id": "42afc56b",
   "metadata": {},
   "source": [
    "This heat map shows activeDuration and valid has less co-relation with target(label)"
   ]
  },
  {
   "cell_type": "code",
   "execution_count": 356,
   "id": "c24ab9f8",
   "metadata": {},
   "outputs": [
    {
     "data": {
      "text/html": [
       "<div>\n",
       "<style scoped>\n",
       "    .dataframe tbody tr th:only-of-type {\n",
       "        vertical-align: middle;\n",
       "    }\n",
       "\n",
       "    .dataframe tbody tr th {\n",
       "        vertical-align: top;\n",
       "    }\n",
       "\n",
       "    .dataframe thead th {\n",
       "        text-align: right;\n",
       "    }\n",
       "</style>\n",
       "<table border=\"1\" class=\"dataframe\">\n",
       "  <thead>\n",
       "    <tr style=\"text-align: right;\">\n",
       "      <th></th>\n",
       "      <th>ranking</th>\n",
       "      <th>isIp</th>\n",
       "      <th>valid</th>\n",
       "      <th>activeDuration</th>\n",
       "      <th>urlLen</th>\n",
       "      <th>is@</th>\n",
       "      <th>isredirect</th>\n",
       "      <th>haveDash</th>\n",
       "      <th>domainLen</th>\n",
       "      <th>nosOfSubdomain</th>\n",
       "      <th>label</th>\n",
       "    </tr>\n",
       "  </thead>\n",
       "  <tbody>\n",
       "    <tr>\n",
       "      <th>count</th>\n",
       "      <td>9.591000e+04</td>\n",
       "      <td>95910.000000</td>\n",
       "      <td>95910.000000</td>\n",
       "      <td>95910.000000</td>\n",
       "      <td>95910.000000</td>\n",
       "      <td>95910.000000</td>\n",
       "      <td>95910.000000</td>\n",
       "      <td>95910.000000</td>\n",
       "      <td>95910.000000</td>\n",
       "      <td>95910.000000</td>\n",
       "      <td>95910.000000</td>\n",
       "    </tr>\n",
       "    <tr>\n",
       "      <th>mean</th>\n",
       "      <td>6.118618e+06</td>\n",
       "      <td>0.000229</td>\n",
       "      <td>0.573892</td>\n",
       "      <td>3747.876144</td>\n",
       "      <td>69.326483</td>\n",
       "      <td>0.002773</td>\n",
       "      <td>0.007444</td>\n",
       "      <td>0.157856</td>\n",
       "      <td>23.409061</td>\n",
       "      <td>2.387718</td>\n",
       "      <td>0.582984</td>\n",
       "    </tr>\n",
       "    <tr>\n",
       "      <th>std</th>\n",
       "      <td>4.835254e+06</td>\n",
       "      <td>0.015144</td>\n",
       "      <td>0.494512</td>\n",
       "      <td>3974.587188</td>\n",
       "      <td>69.740521</td>\n",
       "      <td>0.052591</td>\n",
       "      <td>0.085960</td>\n",
       "      <td>0.364608</td>\n",
       "      <td>25.426852</td>\n",
       "      <td>2.140997</td>\n",
       "      <td>0.493068</td>\n",
       "    </tr>\n",
       "    <tr>\n",
       "      <th>min</th>\n",
       "      <td>1.000000e+00</td>\n",
       "      <td>0.000000</td>\n",
       "      <td>0.000000</td>\n",
       "      <td>0.000000</td>\n",
       "      <td>9.000000</td>\n",
       "      <td>0.000000</td>\n",
       "      <td>0.000000</td>\n",
       "      <td>0.000000</td>\n",
       "      <td>3.000000</td>\n",
       "      <td>0.000000</td>\n",
       "      <td>0.000000</td>\n",
       "    </tr>\n",
       "    <tr>\n",
       "      <th>25%</th>\n",
       "      <td>3.205600e+04</td>\n",
       "      <td>0.000000</td>\n",
       "      <td>0.000000</td>\n",
       "      <td>0.000000</td>\n",
       "      <td>31.000000</td>\n",
       "      <td>0.000000</td>\n",
       "      <td>0.000000</td>\n",
       "      <td>0.000000</td>\n",
       "      <td>14.000000</td>\n",
       "      <td>2.000000</td>\n",
       "      <td>0.000000</td>\n",
       "    </tr>\n",
       "    <tr>\n",
       "      <th>50%</th>\n",
       "      <td>1.000000e+07</td>\n",
       "      <td>0.000000</td>\n",
       "      <td>1.000000</td>\n",
       "      <td>2192.000000</td>\n",
       "      <td>44.000000</td>\n",
       "      <td>0.000000</td>\n",
       "      <td>0.000000</td>\n",
       "      <td>0.000000</td>\n",
       "      <td>17.000000</td>\n",
       "      <td>2.000000</td>\n",
       "      <td>1.000000</td>\n",
       "    </tr>\n",
       "    <tr>\n",
       "      <th>75%</th>\n",
       "      <td>1.000000e+07</td>\n",
       "      <td>0.000000</td>\n",
       "      <td>1.000000</td>\n",
       "      <td>7670.000000</td>\n",
       "      <td>78.000000</td>\n",
       "      <td>0.000000</td>\n",
       "      <td>0.000000</td>\n",
       "      <td>0.000000</td>\n",
       "      <td>22.000000</td>\n",
       "      <td>2.000000</td>\n",
       "      <td>1.000000</td>\n",
       "    </tr>\n",
       "    <tr>\n",
       "      <th>max</th>\n",
       "      <td>1.000000e+07</td>\n",
       "      <td>1.000000</td>\n",
       "      <td>1.000000</td>\n",
       "      <td>15707.000000</td>\n",
       "      <td>2175.000000</td>\n",
       "      <td>1.000000</td>\n",
       "      <td>1.000000</td>\n",
       "      <td>1.000000</td>\n",
       "      <td>244.000000</td>\n",
       "      <td>34.000000</td>\n",
       "      <td>1.000000</td>\n",
       "    </tr>\n",
       "  </tbody>\n",
       "</table>\n",
       "</div>"
      ],
      "text/plain": [
       "            ranking          isIp         valid  activeDuration        urlLen  \\\n",
       "count  9.591000e+04  95910.000000  95910.000000    95910.000000  95910.000000   \n",
       "mean   6.118618e+06      0.000229      0.573892     3747.876144     69.326483   \n",
       "std    4.835254e+06      0.015144      0.494512     3974.587188     69.740521   \n",
       "min    1.000000e+00      0.000000      0.000000        0.000000      9.000000   \n",
       "25%    3.205600e+04      0.000000      0.000000        0.000000     31.000000   \n",
       "50%    1.000000e+07      0.000000      1.000000     2192.000000     44.000000   \n",
       "75%    1.000000e+07      0.000000      1.000000     7670.000000     78.000000   \n",
       "max    1.000000e+07      1.000000      1.000000    15707.000000   2175.000000   \n",
       "\n",
       "                is@    isredirect      haveDash     domainLen  nosOfSubdomain  \\\n",
       "count  95910.000000  95910.000000  95910.000000  95910.000000    95910.000000   \n",
       "mean       0.002773      0.007444      0.157856     23.409061        2.387718   \n",
       "std        0.052591      0.085960      0.364608     25.426852        2.140997   \n",
       "min        0.000000      0.000000      0.000000      3.000000        0.000000   \n",
       "25%        0.000000      0.000000      0.000000     14.000000        2.000000   \n",
       "50%        0.000000      0.000000      0.000000     17.000000        2.000000   \n",
       "75%        0.000000      0.000000      0.000000     22.000000        2.000000   \n",
       "max        1.000000      1.000000      1.000000    244.000000       34.000000   \n",
       "\n",
       "              label  \n",
       "count  95910.000000  \n",
       "mean       0.582984  \n",
       "std        0.493068  \n",
       "min        0.000000  \n",
       "25%        0.000000  \n",
       "50%        1.000000  \n",
       "75%        1.000000  \n",
       "max        1.000000  "
      ]
     },
     "execution_count": 356,
     "metadata": {},
     "output_type": "execute_result"
    }
   ],
   "source": [
    "# describe data - we use this to find some stat percentile, mean and std of \n",
    "#numerical values fo the series or DF\n",
    "#Here, we clean the data by applying data preprocesssing techniques \n",
    "#and transform the data to use it in the models.\n",
    "df.describe() "
   ]
  },
  {
   "cell_type": "markdown",
   "id": "aaf1fcab",
   "metadata": {},
   "source": [
    "The above obtained result shows that the most of the data is made of 0's & 1's except 'Domain' & 'URL_Depth' columns. The Domain column doesnt have any significance to the machine learning model training. So dropping the 'Domain' column from the dataset."
   ]
  },
  {
   "cell_type": "code",
   "execution_count": 357,
   "id": "8cab04a5",
   "metadata": {},
   "outputs": [
    {
     "data": {
      "text/html": [
       "<div>\n",
       "<style scoped>\n",
       "    .dataframe tbody tr th:only-of-type {\n",
       "        vertical-align: middle;\n",
       "    }\n",
       "\n",
       "    .dataframe tbody tr th {\n",
       "        vertical-align: top;\n",
       "    }\n",
       "\n",
       "    .dataframe thead th {\n",
       "        text-align: right;\n",
       "    }\n",
       "</style>\n",
       "<table border=\"1\" class=\"dataframe\">\n",
       "  <thead>\n",
       "    <tr style=\"text-align: right;\">\n",
       "      <th></th>\n",
       "      <th>valid</th>\n",
       "      <th>activeDuration</th>\n",
       "      <th>urlLen</th>\n",
       "      <th>domainLen</th>\n",
       "      <th>label</th>\n",
       "    </tr>\n",
       "  </thead>\n",
       "  <tbody>\n",
       "    <tr>\n",
       "      <th>0</th>\n",
       "      <td>0</td>\n",
       "      <td>0</td>\n",
       "      <td>20</td>\n",
       "      <td>20</td>\n",
       "      <td>1</td>\n",
       "    </tr>\n",
       "    <tr>\n",
       "      <th>1</th>\n",
       "      <td>1</td>\n",
       "      <td>7305</td>\n",
       "      <td>13</td>\n",
       "      <td>12</td>\n",
       "      <td>0</td>\n",
       "    </tr>\n",
       "    <tr>\n",
       "      <th>2</th>\n",
       "      <td>0</td>\n",
       "      <td>0</td>\n",
       "      <td>155</td>\n",
       "      <td>14</td>\n",
       "      <td>1</td>\n",
       "    </tr>\n",
       "    <tr>\n",
       "      <th>3</th>\n",
       "      <td>0</td>\n",
       "      <td>0</td>\n",
       "      <td>35</td>\n",
       "      <td>18</td>\n",
       "      <td>0</td>\n",
       "    </tr>\n",
       "    <tr>\n",
       "      <th>4</th>\n",
       "      <td>1</td>\n",
       "      <td>730</td>\n",
       "      <td>16</td>\n",
       "      <td>14</td>\n",
       "      <td>1</td>\n",
       "    </tr>\n",
       "    <tr>\n",
       "      <th>...</th>\n",
       "      <td>...</td>\n",
       "      <td>...</td>\n",
       "      <td>...</td>\n",
       "      <td>...</td>\n",
       "      <td>...</td>\n",
       "    </tr>\n",
       "    <tr>\n",
       "      <th>95905</th>\n",
       "      <td>1</td>\n",
       "      <td>8035</td>\n",
       "      <td>28</td>\n",
       "      <td>16</td>\n",
       "      <td>0</td>\n",
       "    </tr>\n",
       "    <tr>\n",
       "      <th>95906</th>\n",
       "      <td>1</td>\n",
       "      <td>8400</td>\n",
       "      <td>47</td>\n",
       "      <td>27</td>\n",
       "      <td>0</td>\n",
       "    </tr>\n",
       "    <tr>\n",
       "      <th>95907</th>\n",
       "      <td>0</td>\n",
       "      <td>0</td>\n",
       "      <td>43</td>\n",
       "      <td>29</td>\n",
       "      <td>1</td>\n",
       "    </tr>\n",
       "    <tr>\n",
       "      <th>95908</th>\n",
       "      <td>1</td>\n",
       "      <td>9862</td>\n",
       "      <td>41</td>\n",
       "      <td>14</td>\n",
       "      <td>0</td>\n",
       "    </tr>\n",
       "    <tr>\n",
       "      <th>95909</th>\n",
       "      <td>0</td>\n",
       "      <td>0</td>\n",
       "      <td>323</td>\n",
       "      <td>16</td>\n",
       "      <td>1</td>\n",
       "    </tr>\n",
       "  </tbody>\n",
       "</table>\n",
       "<p>95910 rows × 5 columns</p>\n",
       "</div>"
      ],
      "text/plain": [
       "       valid  activeDuration  urlLen  domainLen  label\n",
       "0          0               0      20         20      1\n",
       "1          1            7305      13         12      0\n",
       "2          0               0     155         14      1\n",
       "3          0               0      35         18      0\n",
       "4          1             730      16         14      1\n",
       "...      ...             ...     ...        ...    ...\n",
       "95905      1            8035      28         16      0\n",
       "95906      1            8400      47         27      0\n",
       "95907      0               0      43         29      1\n",
       "95908      1            9862      41         14      0\n",
       "95909      0               0     323         16      1\n",
       "\n",
       "[95910 rows x 5 columns]"
      ]
     },
     "execution_count": 357,
     "metadata": {},
     "output_type": "execute_result"
    }
   ],
   "source": [
    "# Now we can drop a domain column \n",
    "df = df.drop(['domain','ranking','is@','haveDash','nosOfSubdomain','isredirect','isIp'], axis = 'columns')\n",
    "df"
   ]
  },
  {
   "cell_type": "code",
   "execution_count": 358,
   "id": "f7220d1c",
   "metadata": {},
   "outputs": [
    {
     "data": {
      "text/plain": [
       "ranking           0\n",
       "isIp              0\n",
       "valid             0\n",
       "activeDuration    0\n",
       "urlLen            0\n",
       "is@               0\n",
       "isredirect        0\n",
       "haveDash          0\n",
       "domainLen         0\n",
       "nosOfSubdomain    0\n",
       "label             0\n",
       "dtype: int64"
      ]
     },
     "execution_count": 358,
     "metadata": {},
     "output_type": "execute_result"
    }
   ],
   "source": [
    "data.isnull().sum() # after dropping domain now we have 11 features left "
   ]
  },
  {
   "cell_type": "code",
   "execution_count": 359,
   "id": "048523f8",
   "metadata": {},
   "outputs": [],
   "source": [
    "#6. SPLITTING THE DATA"
   ]
  },
  {
   "cell_type": "markdown",
   "id": "eca9bef8",
   "metadata": {},
   "source": [
    "# Target is label "
   ]
  },
  {
   "cell_type": "code",
   "execution_count": 360,
   "id": "0a360a7c",
   "metadata": {},
   "outputs": [
    {
     "data": {
      "text/plain": [
       "0    1\n",
       "1    0\n",
       "2    1\n",
       "3    0\n",
       "4    1\n",
       "5    1\n",
       "6    0\n",
       "7    0\n",
       "8    0\n",
       "9    0\n",
       "Name: label, dtype: int64"
      ]
     },
     "execution_count": 360,
     "metadata": {},
     "output_type": "execute_result"
    }
   ],
   "source": [
    "target=df.label\n",
    "target[:10]\n",
    "# 1 means phishing website and 0 means legitimate websites. "
   ]
  },
  {
   "cell_type": "code",
   "execution_count": 361,
   "id": "82c07dc3",
   "metadata": {},
   "outputs": [
    {
     "data": {
      "text/plain": [
       "((95910, 10), (95910,))"
      ]
     },
     "execution_count": 361,
     "metadata": {},
     "output_type": "execute_result"
    }
   ],
   "source": [
    "# seperating and assigning features and target columns to x,y \n",
    "y=data['label']\n",
    "x=data.drop('label',axis=1)\n",
    "x.shape, y.shape"
   ]
  },
  {
   "cell_type": "markdown",
   "id": "30e88dfd",
   "metadata": {},
   "source": [
    "Testing and training the data by importing train test \n",
    "Using Support vector machine and nearest neighbor "
   ]
  },
  {
   "cell_type": "code",
   "execution_count": 362,
   "id": "6cc9ea9a",
   "metadata": {},
   "outputs": [],
   "source": [
    "# spliting dataset into train and test sets\n",
    "from sklearn.model_selection import train_test_split\n",
    "x_train, x_test,y_train, y_test= train_test_split(df,target,test_size=0.3)  "
   ]
  },
  {
   "cell_type": "code",
   "execution_count": 363,
   "id": "95c8e1a2",
   "metadata": {},
   "outputs": [
    {
     "data": {
      "text/plain": [
       "((67137, 5), (28773, 5))"
      ]
     },
     "execution_count": 363,
     "metadata": {},
     "output_type": "execute_result"
    }
   ],
   "source": [
    "x_train.shape, x_test.shape"
   ]
  },
  {
   "cell_type": "code",
   "execution_count": 364,
   "id": "ab02bbc1",
   "metadata": {},
   "outputs": [
    {
     "name": "stdout",
     "output_type": "stream",
     "text": [
      "       valid  activeDuration  urlLen  domainLen  label\n",
      "93631      1            9496      40         18      0\n",
      "24925      0               0      29         24      0\n",
      "39098      1            8401      18         15      0\n",
      "91659      1             731      47         17      1\n",
      "67879      1            9496      28         18      0\n",
      "85570      1            6940      27         13      0\n",
      "24230      1           10591      50         13      0\n",
      "62715      1            6939     337         44      1\n",
      "59381      0               0      44         20      1\n",
      "17931      0               0     102         32      1\n"
     ]
    }
   ],
   "source": [
    "print(x_train[:10])"
   ]
  },
  {
   "cell_type": "code",
   "execution_count": 365,
   "id": "897e49e0",
   "metadata": {},
   "outputs": [
    {
     "name": "stdout",
     "output_type": "stream",
     "text": [
      "       valid  activeDuration  urlLen  domainLen  label\n",
      "30769      1            8036      28         17      0\n",
      "10975      1            8400      41         17      0\n",
      "15145      1            6940      36         18      0\n",
      "86986      0               0      24         12      0\n",
      "27096      1             365     203         24      1\n",
      "44339      1            8635      27         17      0\n",
      "57346      0               0      37         21      1\n",
      "81096      0               0      30         14      0\n",
      "13412      0               0      29         23      1\n",
      "85166      1            4017      33         13      1\n"
     ]
    }
   ],
   "source": [
    "print(x_test[:10])"
   ]
  },
  {
   "cell_type": "code",
   "execution_count": 366,
   "id": "6544308c",
   "metadata": {},
   "outputs": [
    {
     "name": "stdout",
     "output_type": "stream",
     "text": [
      "93631    0\n",
      "24925    0\n",
      "39098    0\n",
      "91659    1\n",
      "67879    0\n",
      "85570    0\n",
      "24230    0\n",
      "62715    1\n",
      "59381    1\n",
      "17931    1\n",
      "Name: label, dtype: int64\n"
     ]
    }
   ],
   "source": [
    "print(y_train[:10])"
   ]
  },
  {
   "cell_type": "code",
   "execution_count": 367,
   "id": "9e887f1c",
   "metadata": {},
   "outputs": [
    {
     "name": "stdout",
     "output_type": "stream",
     "text": [
      "30769    0\n",
      "10975    0\n",
      "15145    0\n",
      "86986    0\n",
      "27096    1\n",
      "44339    0\n",
      "57346    1\n",
      "81096    0\n",
      "13412    1\n",
      "85166    1\n",
      "Name: label, dtype: int64\n"
     ]
    }
   ],
   "source": [
    "print(y_test[:10])"
   ]
  },
  {
   "cell_type": "markdown",
   "id": "0d66cc3f",
   "metadata": {},
   "source": [
    "# Naive Bayes "
   ]
  },
  {
   "cell_type": "code",
   "execution_count": 375,
   "id": "68ec27c4",
   "metadata": {},
   "outputs": [],
   "source": [
    "from sklearn.naive_bayes import GaussianNB\n",
    "# call our model equal to this GaussianNB\n",
    "model=GaussianNB() # this is our model "
   ]
  },
  {
   "cell_type": "code",
   "execution_count": 376,
   "id": "72de11bd",
   "metadata": {},
   "outputs": [
    {
     "data": {
      "text/plain": [
       "GaussianNB()"
      ]
     },
     "execution_count": 376,
     "metadata": {},
     "output_type": "execute_result"
    }
   ],
   "source": [
    "model.fit(x_train,y_train)"
   ]
  },
  {
   "cell_type": "code",
   "execution_count": 377,
   "id": "09a5e606",
   "metadata": {},
   "outputs": [
    {
     "data": {
      "text/plain": [
       "0.9997219615611859"
      ]
     },
     "execution_count": 377,
     "metadata": {},
     "output_type": "execute_result"
    }
   ],
   "source": [
    "model.score(x_test,y_test)"
   ]
  },
  {
   "cell_type": "code",
   "execution_count": 378,
   "id": "2f2ace6a",
   "metadata": {},
   "outputs": [
    {
     "data": {
      "text/plain": [
       "array([[1.00000000e+000, 1.35664962e-017],\n",
       "       [1.00000000e+000, 1.88439418e-014],\n",
       "       [1.00000000e+000, 5.90808713e-017],\n",
       "       [2.81536308e-013, 1.00000000e+000],\n",
       "       [1.00000000e+000, 1.45073306e-017],\n",
       "       [1.00000000e+000, 1.11361012e-016],\n",
       "       [1.00000000e+000, 1.18399067e-017],\n",
       "       [1.22133943e-126, 1.00000000e+000],\n",
       "       [5.83717511e-014, 1.00000000e+000],\n",
       "       [4.17611039e-022, 1.00000000e+000]])"
      ]
     },
     "execution_count": 378,
     "metadata": {},
     "output_type": "execute_result"
    }
   ],
   "source": [
    "model.predict_proba(x_train[:10])"
   ]
  },
  {
   "cell_type": "code",
   "execution_count": 379,
   "id": "78b7668e",
   "metadata": {},
   "outputs": [
    {
     "data": {
      "text/plain": [
       "array([0, 0, 0, ..., 0, 1, 0])"
      ]
     },
     "execution_count": 379,
     "metadata": {},
     "output_type": "execute_result"
    }
   ],
   "source": [
    "model.predict(x_test)"
   ]
  },
  {
   "cell_type": "markdown",
   "id": "d3d9e1e7",
   "metadata": {},
   "source": [
    "# Support vector machine"
   ]
  },
  {
   "cell_type": "code",
   "execution_count": 380,
   "id": "e0987321",
   "metadata": {},
   "outputs": [],
   "source": [
    "from sklearn.svm import SVC\n",
    "model=SVC(C=20)"
   ]
  },
  {
   "cell_type": "code",
   "execution_count": 381,
   "id": "fb37d4a8",
   "metadata": {},
   "outputs": [
    {
     "data": {
      "text/plain": [
       "SVC(C=20)"
      ]
     },
     "execution_count": 381,
     "metadata": {},
     "output_type": "execute_result"
    }
   ],
   "source": [
    "model.fit(x_train,y_train)"
   ]
  },
  {
   "cell_type": "code",
   "execution_count": 382,
   "id": "ac783eb1",
   "metadata": {},
   "outputs": [
    {
     "data": {
      "text/plain": [
       "0.8279637159837347"
      ]
     },
     "execution_count": 382,
     "metadata": {},
     "output_type": "execute_result"
    }
   ],
   "source": [
    "model.score(x_test,y_test)"
   ]
  },
  {
   "cell_type": "code",
   "execution_count": null,
   "id": "f6f3b880",
   "metadata": {},
   "outputs": [],
   "source": []
  },
  {
   "cell_type": "markdown",
   "id": "54536291",
   "metadata": {},
   "source": [
    "# Nearest neighbor \n"
   ]
  },
  {
   "cell_type": "code",
   "execution_count": 330,
   "id": "99a78718",
   "metadata": {},
   "outputs": [],
   "source": [
    "from sklearn.neighbors import KNeighborsClassifier\n",
    "from sklearn import metrics\n",
    "classifier = KNeighborsClassifier(n_neighbors=5)\n"
   ]
  },
  {
   "cell_type": "code",
   "execution_count": 331,
   "id": "36944587",
   "metadata": {},
   "outputs": [
    {
     "data": {
      "text/plain": [
       "KNeighborsClassifier()"
      ]
     },
     "execution_count": 331,
     "metadata": {},
     "output_type": "execute_result"
    }
   ],
   "source": [
    "classifier.fit(x_train, y_train)"
   ]
  },
  {
   "cell_type": "code",
   "execution_count": 332,
   "id": "6329eb2e",
   "metadata": {},
   "outputs": [],
   "source": [
    "y_pred = classifier.predict(x_test)"
   ]
  },
  {
   "cell_type": "code",
   "execution_count": 333,
   "id": "0015f9d4",
   "metadata": {},
   "outputs": [
    {
     "data": {
      "text/plain": [
       "89863    1\n",
       "76341    1\n",
       "84669    1\n",
       "6895     1\n",
       "32347    0\n",
       "35986    1\n",
       "30782    1\n",
       "66489    1\n",
       "50882    1\n",
       "11579    1\n",
       "Name: label, dtype: int64"
      ]
     },
     "execution_count": 333,
     "metadata": {},
     "output_type": "execute_result"
    }
   ],
   "source": [
    "y_test[:10]"
   ]
  },
  {
   "cell_type": "code",
   "execution_count": 334,
   "id": "688fd9e4",
   "metadata": {},
   "outputs": [
    {
     "data": {
      "text/html": [
       "<div>\n",
       "<style scoped>\n",
       "    .dataframe tbody tr th:only-of-type {\n",
       "        vertical-align: middle;\n",
       "    }\n",
       "\n",
       "    .dataframe tbody tr th {\n",
       "        vertical-align: top;\n",
       "    }\n",
       "\n",
       "    .dataframe thead th {\n",
       "        text-align: right;\n",
       "    }\n",
       "</style>\n",
       "<table border=\"1\" class=\"dataframe\">\n",
       "  <thead>\n",
       "    <tr style=\"text-align: right;\">\n",
       "      <th></th>\n",
       "      <th>valid</th>\n",
       "      <th>activeDuration</th>\n",
       "      <th>urlLen</th>\n",
       "      <th>domainLen</th>\n",
       "      <th>label</th>\n",
       "    </tr>\n",
       "  </thead>\n",
       "  <tbody>\n",
       "    <tr>\n",
       "      <th>89863</th>\n",
       "      <td>1</td>\n",
       "      <td>7671</td>\n",
       "      <td>60</td>\n",
       "      <td>17</td>\n",
       "      <td>1</td>\n",
       "    </tr>\n",
       "    <tr>\n",
       "      <th>76341</th>\n",
       "      <td>0</td>\n",
       "      <td>0</td>\n",
       "      <td>143</td>\n",
       "      <td>89</td>\n",
       "      <td>1</td>\n",
       "    </tr>\n",
       "    <tr>\n",
       "      <th>84669</th>\n",
       "      <td>0</td>\n",
       "      <td>0</td>\n",
       "      <td>44</td>\n",
       "      <td>19</td>\n",
       "      <td>1</td>\n",
       "    </tr>\n",
       "    <tr>\n",
       "      <th>6895</th>\n",
       "      <td>1</td>\n",
       "      <td>1096</td>\n",
       "      <td>53</td>\n",
       "      <td>9</td>\n",
       "      <td>1</td>\n",
       "    </tr>\n",
       "    <tr>\n",
       "      <th>32347</th>\n",
       "      <td>1</td>\n",
       "      <td>6575</td>\n",
       "      <td>24</td>\n",
       "      <td>19</td>\n",
       "      <td>0</td>\n",
       "    </tr>\n",
       "    <tr>\n",
       "      <th>35986</th>\n",
       "      <td>0</td>\n",
       "      <td>0</td>\n",
       "      <td>42</td>\n",
       "      <td>14</td>\n",
       "      <td>1</td>\n",
       "    </tr>\n",
       "    <tr>\n",
       "      <th>30782</th>\n",
       "      <td>1</td>\n",
       "      <td>2192</td>\n",
       "      <td>285</td>\n",
       "      <td>29</td>\n",
       "      <td>1</td>\n",
       "    </tr>\n",
       "    <tr>\n",
       "      <th>66489</th>\n",
       "      <td>1</td>\n",
       "      <td>1827</td>\n",
       "      <td>65</td>\n",
       "      <td>64</td>\n",
       "      <td>1</td>\n",
       "    </tr>\n",
       "    <tr>\n",
       "      <th>50882</th>\n",
       "      <td>1</td>\n",
       "      <td>5113</td>\n",
       "      <td>114</td>\n",
       "      <td>23</td>\n",
       "      <td>1</td>\n",
       "    </tr>\n",
       "    <tr>\n",
       "      <th>11579</th>\n",
       "      <td>1</td>\n",
       "      <td>6574</td>\n",
       "      <td>32</td>\n",
       "      <td>31</td>\n",
       "      <td>1</td>\n",
       "    </tr>\n",
       "  </tbody>\n",
       "</table>\n",
       "</div>"
      ],
      "text/plain": [
       "       valid  activeDuration  urlLen  domainLen  label\n",
       "89863      1            7671      60         17      1\n",
       "76341      0               0     143         89      1\n",
       "84669      0               0      44         19      1\n",
       "6895       1            1096      53          9      1\n",
       "32347      1            6575      24         19      0\n",
       "35986      0               0      42         14      1\n",
       "30782      1            2192     285         29      1\n",
       "66489      1            1827      65         64      1\n",
       "50882      1            5113     114         23      1\n",
       "11579      1            6574      32         31      1"
      ]
     },
     "execution_count": 334,
     "metadata": {},
     "output_type": "execute_result"
    }
   ],
   "source": [
    "x_test[:10]"
   ]
  },
  {
   "cell_type": "markdown",
   "id": "13fa090a",
   "metadata": {},
   "source": [
    "# Decision Tree model "
   ]
  },
  {
   "cell_type": "code",
   "execution_count": 383,
   "id": "afb64538",
   "metadata": {},
   "outputs": [
    {
     "data": {
      "text/plain": [
       "DecisionTreeClassifier(max_depth=5)"
      ]
     },
     "execution_count": 383,
     "metadata": {},
     "output_type": "execute_result"
    }
   ],
   "source": [
    "# Decision Tree model \n",
    "from sklearn.tree import DecisionTreeClassifier\n",
    "\n",
    "# instantiate the model \n",
    "tree = DecisionTreeClassifier(max_depth = 5)\n",
    "# fit the model \n",
    "tree.fit(x_train, y_train)"
   ]
  },
  {
   "cell_type": "code",
   "execution_count": 384,
   "id": "d596a2f8",
   "metadata": {},
   "outputs": [],
   "source": [
    "#predicting the target value from the model for the samples\n",
    "y_test_tree = tree.predict(x_test)\n",
    "y_train_tree = tree.predict(x_train)"
   ]
  },
  {
   "cell_type": "code",
   "execution_count": 385,
   "id": "ebf4f563",
   "metadata": {},
   "outputs": [],
   "source": [
    "#computing the accuracy of the model performance\n",
    "acc_train_tree = accuracy_score(y_train,y_train_tree)\n",
    "acc_test_tree = accuracy_score(y_test,y_test_tree)"
   ]
  },
  {
   "cell_type": "code",
   "execution_count": null,
   "id": "d153a2dd",
   "metadata": {},
   "outputs": [],
   "source": []
  }
 ],
 "metadata": {
  "kernelspec": {
   "display_name": "Python 3 (ipykernel)",
   "language": "python",
   "name": "python3"
  },
  "language_info": {
   "codemirror_mode": {
    "name": "ipython",
    "version": 3
   },
   "file_extension": ".py",
   "mimetype": "text/x-python",
   "name": "python",
   "nbconvert_exporter": "python",
   "pygments_lexer": "ipython3",
   "version": "3.8.8"
  }
 },
 "nbformat": 4,
 "nbformat_minor": 5
}
